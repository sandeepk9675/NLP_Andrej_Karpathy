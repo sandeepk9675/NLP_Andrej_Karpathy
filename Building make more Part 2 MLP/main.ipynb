{
 "cells": [
  {
   "cell_type": "code",
   "execution_count": 1,
   "id": "5c8f8111-19af-4e51-a1e2-d51cee569493",
   "metadata": {},
   "outputs": [
    {
     "name": "stdout",
     "output_type": "stream",
     "text": [
      "2.5.1\n",
      "True\n",
      "True\n"
     ]
    }
   ],
   "source": [
    "import torch\n",
    "print(torch.__version__)  # Check PyTorch version\n",
    "print(torch.backends.mps.is_available())  # Should return True if MPS is available\n",
    "print(torch.backends.mps.is_built())  # Should return True if MPS is built"
   ]
  },
  {
   "cell_type": "code",
   "execution_count": 2,
   "id": "a96b0e09-82b0-465b-bd44-cce9705cf9b8",
   "metadata": {},
   "outputs": [],
   "source": [
    "import torch\n",
    "import torch.nn.functional as F\n",
    "import matplotlib.pyplot as plt\n",
    "%matplotlib inline\n"
   ]
  },
  {
   "cell_type": "code",
   "execution_count": 3,
   "id": "f33f620f-f57b-4a20-a5d2-aea0d3ecf59c",
   "metadata": {},
   "outputs": [
    {
     "data": {
      "text/plain": [
       "['emma', 'olivia', 'ava', 'isabella', 'sophia', 'charlotte', 'mia', 'amelia']"
      ]
     },
     "execution_count": 3,
     "metadata": {},
     "output_type": "execute_result"
    }
   ],
   "source": [
    "# read all the words/names\n",
    "words = open('names.txt', 'r').read().splitlines()\n",
    "words[:8]\n"
   ]
  },
  {
   "cell_type": "code",
   "execution_count": 8,
   "id": "031e55dc-34e1-42d2-adf6-d764af7c0d02",
   "metadata": {},
   "outputs": [
    {
     "data": {
      "text/plain": [
       "32033"
      ]
     },
     "execution_count": 8,
     "metadata": {},
     "output_type": "execute_result"
    }
   ],
   "source": [
    "len(words)"
   ]
  },
  {
   "cell_type": "code",
   "execution_count": 16,
   "id": "85ccf857-b701-4156-9cfe-a977c0a034ba",
   "metadata": {},
   "outputs": [
    {
     "name": "stdout",
     "output_type": "stream",
     "text": [
      "{1: 'a', 2: 'b', 3: 'c', 4: 'd', 5: 'e', 6: 'f', 7: 'g', 8: 'h', 9: 'i', 10: 'j', 11: 'k', 12: 'l', 13: 'm', 14: 'n', 15: 'o', 16: 'p', 17: 'q', 18: 'r', 19: 's', 20: 't', 21: 'u', 22: 'v', 23: 'w', 24: 'x', 25: 'y', 26: 'z', 0: '.'}\n"
     ]
    }
   ],
   "source": [
    "# build the vocabulary of characters and mapping to/from integers\n",
    "chars = sorted(list(set(''.join(words))))\n",
    "stoi = {s:i+1 for i,s in enumerate(chars)}\n",
    "stoi['.'] = 0\n",
    "itos = {i:s for s,i in stoi.items()}\n",
    "                    \n",
    "print(itos)\n",
    "\n",
    "      "
   ]
  },
  {
   "cell_type": "code",
   "execution_count": 17,
   "id": "71a7dd1d-9750-42a5-9172-ff5889d16d4b",
   "metadata": {},
   "outputs": [
    {
     "name": "stdout",
     "output_type": "stream",
     "text": [
      "emma\n",
      "[0, 0, 0]\n",
      "..... ---> e\n",
      "....e ---> m\n",
      "..e.m ---> m\n",
      "e.m.m ---> a\n",
      "m.m.a ---> .\n",
      "olivia\n",
      "[0, 0, 0]\n",
      "..... ---> o\n",
      "....o ---> l\n",
      "..o.l ---> i\n",
      "o.l.i ---> v\n",
      "l.i.v ---> i\n",
      "i.v.i ---> a\n",
      "v.i.a ---> .\n",
      "ava\n",
      "[0, 0, 0]\n",
      "..... ---> a\n",
      "....a ---> v\n",
      "..a.v ---> a\n",
      "a.v.a ---> .\n",
      "isabella\n",
      "[0, 0, 0]\n",
      "..... ---> i\n",
      "....i ---> s\n",
      "..i.s ---> a\n",
      "i.s.a ---> b\n",
      "s.a.b ---> e\n",
      "a.b.e ---> l\n",
      "b.e.l ---> l\n",
      "e.l.l ---> a\n",
      "l.l.a ---> .\n",
      "sophia\n",
      "[0, 0, 0]\n",
      "..... ---> s\n",
      "....s ---> o\n",
      "..s.o ---> p\n",
      "s.o.p ---> h\n",
      "o.p.h ---> i\n",
      "p.h.i ---> a\n",
      "h.i.a ---> .\n"
     ]
    }
   ],
   "source": [
    "# build the dataset\n",
    "\n",
    "block_size = 3 # context length: how many chaarcters do we tak e to predoict the next one?\n",
    "X, Y = [], []\n",
    "for w in words[:5]:\n",
    "\n",
    "    print(w)\n",
    "    context = [0] * block_size\n",
    "    print(context)\n",
    "\n",
    "    for ch in w + '.':\n",
    "        ix = stoi[ch]\n",
    "        X.append(context)\n",
    "        Y.append(ix)\n",
    "        print('.'.join(itos[i] for i in context), '--->', itos[ix])\n",
    "        context = context[1:] + [ix] # crop and append\n",
    "\n",
    "X = torch.tensor(X)\n",
    "Y = torch.tensor(Y)\n",
    "    \n",
    "    \n"
   ]
  },
  {
   "cell_type": "code",
   "execution_count": null,
   "id": "b15386ae-e4bb-4eee-bd9c-2e0acde7ea14",
   "metadata": {},
   "outputs": [],
   "source": []
  }
 ],
 "metadata": {
  "kernelspec": {
   "display_name": "DLCV_NLP_MLDS",
   "language": "python",
   "name": "python3"
  },
  "language_info": {
   "codemirror_mode": {
    "name": "ipython",
    "version": 3
   },
   "file_extension": ".py",
   "mimetype": "text/x-python",
   "name": "python",
   "nbconvert_exporter": "python",
   "pygments_lexer": "ipython3",
   "version": "3.10.16"
  }
 },
 "nbformat": 4,
 "nbformat_minor": 5
}
